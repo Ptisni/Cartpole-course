{
  "nbformat": 4,
  "nbformat_minor": 0,
  "metadata": {
    "colab": {
      "name": "Cartpole-OC.ipynb",
      "provenance": [],
      "collapsed_sections": [],
      "authorship_tag": "ABX9TyOi50AIq2EqbOR8dzVS/nP/",
      "include_colab_link": true
    },
    "kernelspec": {
      "name": "python3",
      "display_name": "Python 3"
    },
    "language_info": {
      "name": "python"
    }
  },
  "cells": [
    {
      "cell_type": "markdown",
      "metadata": {
        "id": "view-in-github",
        "colab_type": "text"
      },
      "source": [
        "<a href=\"https://colab.research.google.com/github/Ptisni/Cartpole-course/blob/main/Cartpole_OC.ipynb\" target=\"_parent\"><img src=\"https://colab.research.google.com/assets/colab-badge.svg\" alt=\"Open In Colab\"/></a>"
      ]
    },
    {
      "cell_type": "markdown",
      "source": [
        "# **3 Ways to Control a Cartpole**\n",
        "### Session 2 - Optimal Control\n",
        "By Peter Tisnikar \\\\\n",
        "February 2022 (Version 1)  \n",
        "\n",
        "---  \n",
        "  \n",
        "\n",
        "**Welcome back**! This week, we introduced the concept of **Optimal Control**, and in this notebook, we will use the state space equations derived in the lecture to compute an optimal controller for the cartpole in AI Gym.\n",
        "\n",
        "#### Refresher (or introduction, if you just joined us) to Jupyter notebooks (which you can skip if you have used them before and know how they work):  \n",
        "\n",
        "Jupyter notebooks are interactive notebooks built from **cells**, which can contain either text (like this one!), or snippets of code. You can run each cell individually by pressing the run button in the upper left corner of each cell, or you can select the **Run All**  (Ctrl/Cmd + F9) from the **Runtime** menu above.  \n",
        "\n",
        "In this document, the text cells will guide you through building your own implementation of an optimal controller, along with minimal theory and reminders form the lectures. They will also contain all instructions for the code cells directly below them and tell you if you need to modify them. Some of the code cells are helper functions (e.g. to visualise the environment or install the packages), so you will need to run and **not change** those.  \n",
        "\n",
        "To start, run the below two cells to install the environment we will use ([Open AI Gym](https://gym.openai.com/envs/CartPole-v1/)), and to enable the rendering of the simulation in Google Colab. Once you are done with that, you can proceed to the next text cell to start building the optimal controller.\n",
        "\n",
        "*Code in cells 1 and 2 reused from [here](https://colab.research.google.com/github/jeffheaton/t81_558_deep_learning/blob/master/t81_558_class_12_01_ai_gym.ipynb)*. \n"
      ],
      "metadata": {
        "id": "mxeG9bhaf5du"
      }
    },
    {
      "cell_type": "code",
      "execution_count": null,
      "metadata": {
        "id": "vLK9n5SlfRCL",
        "colab": {
          "base_uri": "https://localhost:8080/",
          "height": 345
        },
        "outputId": "094c31f6-e15e-4ca7-81ec-249e488e1fd2"
      },
      "outputs": [
        {
          "output_type": "stream",
          "name": "stdout",
          "text": [
            "Looking in indexes: https://pypi.org/simple, https://us-python.pkg.dev/colab-wheels/public/simple/\n",
            "Requirement already satisfied: setuptools in /usr/local/lib/python3.7/dist-packages (57.4.0)\n",
            "Collecting setuptools\n",
            "  Downloading setuptools-62.3.2-py3-none-any.whl (1.2 MB)\n",
            "\u001b[K     |████████████████████████████████| 1.2 MB 25.0 MB/s \n",
            "\u001b[?25hInstalling collected packages: setuptools\n",
            "  Attempting uninstall: setuptools\n",
            "    Found existing installation: setuptools 57.4.0\n",
            "    Uninstalling setuptools-57.4.0:\n",
            "      Successfully uninstalled setuptools-57.4.0\n",
            "\u001b[31mERROR: pip's dependency resolver does not currently take into account all the packages that are installed. This behaviour is the source of the following dependency conflicts.\n",
            "datascience 0.10.6 requires folium==0.2.1, but you have folium 0.8.3 which is incompatible.\u001b[0m\n",
            "Successfully installed setuptools-62.3.2\n"
          ]
        },
        {
          "output_type": "display_data",
          "data": {
            "application/vnd.colab-display-data+json": {
              "pip_warning": {
                "packages": [
                  "pkg_resources"
                ]
              }
            }
          },
          "metadata": {}
        }
      ],
      "source": [
        "# DO NOT MODIFY THIS CELL!\n",
        "#--------------------------------------------------------------\n",
        "!apt-get update > /dev/null 2>&1\n",
        "!pip install gym pyvirtualdisplay > /dev/null 2>&1\n",
        "!apt-get install -y xvfb python-opengl ffmpeg > /dev/null 2>&1\n",
        "!apt-get install cmake > /dev/null 2>&1\n",
        "!pip install --upgrade setuptools 2>&1\n",
        "!pip install ez_setup > /dev/null 2>&1\n",
        "!pip install gym[all] > /dev/null 2>&1"
      ]
    },
    {
      "cell_type": "code",
      "source": [
        "# DO NOT MODIFY THIS CELL!\n",
        "#--------------------------------------------------------------\n",
        "import gym\n",
        "from gym.wrappers import Monitor\n",
        "import glob\n",
        "import io\n",
        "import base64\n",
        "from IPython.display import HTML\n",
        "from pyvirtualdisplay import Display\n",
        "from IPython import display as ipythondisplay\n",
        "import numpy as np\n",
        "from scipy import linalg\n",
        "import time\n",
        "\n",
        "display = Display(visible=0, size=(1400, 900))\n",
        "display.start()\n",
        "\n",
        "\"\"\"\n",
        "Utility functions to enable video recording of gym environment \n",
        "and displaying it.\n",
        "To enable video, just do \"env = wrap_env(env)\"\"\n",
        "\"\"\"\n",
        "\n",
        "def show_video():\n",
        "  mp4list = glob.glob('video/*.mp4')\n",
        "  if len(mp4list) > 0:\n",
        "    mp4 = mp4list[0]\n",
        "    video = io.open(mp4, 'r+b').read()\n",
        "    encoded = base64.b64encode(video)\n",
        "    ipythondisplay.display(HTML(data='''<video alt=\"test\" autoplay \n",
        "                loop controls style=\"height: 400px;\">\n",
        "                <source src=\"data:video/mp4;base64,{0}\" type=\"video/mp4\" />\n",
        "             </video>'''.format(encoded.decode('ascii'))))\n",
        "  else: \n",
        "    print(\"Could not find video\")\n",
        "    \n",
        "\n",
        "def wrap_env(env):\n",
        "  env = Monitor(env, './video', force=True)\n",
        "  return env"
      ],
      "metadata": {
        "id": "L2p3mxQIhhE-"
      },
      "execution_count": null,
      "outputs": []
    },
    {
      "cell_type": "markdown",
      "source": [
        "#Building an Optimal Controller"
      ],
      "metadata": {
        "id": "bIUbrqTphj4E"
      }
    },
    {
      "cell_type": "code",
      "source": [
        "env = gym.make(\"CartPole-v1\")\n",
        "env = wrap_env(env)\n",
        "\n",
        "m = env.masspole\n",
        "M = env.masscart\n",
        "l = env.length\n",
        "g = env.gravity\n",
        "\n",
        "a = l*(4/3 - m/m+M)\n",
        "b = 1/(m+M)\n",
        "\n",
        "A = np.array([[0, 1, 0, 0],\n",
        "             [0, 0, g/a, 0],\n",
        "             [0, 0, 0, 1],\n",
        "             [0, 0, g/a, 0]])\n",
        "\n",
        "B = np.array([[0],[1/m+M], [0], [-1/a]])\n",
        "\n",
        "Q = 10 * np.eye(4, dtype=int)\n",
        "\n",
        "R = np.eye(1, dtype=int)\n",
        "\n",
        "P = linalg.solve_continuous_are(A, B, Q, R)\n",
        "\n",
        "K = np.dot(np.linalg.inv(R), np.dot(B.T, P))\n",
        "\n",
        "observation = env.reset()\n",
        "force = 0\n",
        "\n",
        "for _ in range(50000): # This is the simulation loop\n",
        "  env.render()\n",
        "\n",
        "  if _ < 4:\n",
        "\n",
        "    force = 0\n",
        "\n",
        "  observation, reward, done, info = env.step(force)\n",
        "\n",
        "  command = -np.dot(K, observation)\n",
        "\n",
        "\n",
        "  force = 1 if command > 0 else 0 \n",
        "  if done:\n",
        "    break\n",
        "\n",
        "env.close()\n",
        "show_video()"
      ],
      "metadata": {
        "id": "CsN8p1bXsIkW"
      },
      "execution_count": null,
      "outputs": []
    }
  ]
}